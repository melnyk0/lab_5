{
 "cells": [
  {
   "cell_type": "code",
   "execution_count": null,
   "id": "1a693d65-e97b-4e05-8a55-5f3e45e2a84f",
   "metadata": {},
   "outputs": [],
   "source": []
  }
 ],
 "metadata": {
  "kernelspec": {
   "display_name": "",
   "name": ""
  },
  "language_info": {
   "name": ""
  }
 },
 "nbformat": 4,
 "nbformat_minor": 5
}
